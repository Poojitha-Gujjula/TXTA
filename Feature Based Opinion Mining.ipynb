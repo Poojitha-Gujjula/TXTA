{
 "cells": [
  {
   "cell_type": "markdown",
   "id": "e60a298f",
   "metadata": {},
   "source": [
    "# Feature Based Opinion Mining\n",
    "\n",
    "## Topic - Apple Iphone 12"
   ]
  },
  {
   "cell_type": "markdown",
   "id": "9ae8f947",
   "metadata": {},
   "source": [
    "### Importing the Libraries"
   ]
  },
  {
   "cell_type": "code",
   "execution_count": 1,
   "id": "0d1ef1af",
   "metadata": {
    "scrolled": true
   },
   "outputs": [
    {
     "name": "stdout",
     "output_type": "stream",
     "text": [
      "Collecting requests_html\n",
      "  Using cached requests_html-0.10.0-py3-none-any.whl (13 kB)\n",
      "Collecting parse\n",
      "  Using cached parse-1.19.0.tar.gz (30 kB)\n",
      "  Preparing metadata (setup.py): started\n",
      "  Preparing metadata (setup.py): finished with status 'done'\n",
      "Collecting bs4\n",
      "  Using cached bs4-0.0.1.tar.gz (1.1 kB)\n",
      "  Preparing metadata (setup.py): started\n",
      "  Preparing metadata (setup.py): finished with status 'done'\n",
      "Collecting pyppeteer>=0.0.14\n",
      "  Using cached pyppeteer-1.0.2-py3-none-any.whl (83 kB)\n",
      "Collecting requests\n",
      "  Downloading requests-2.28.2-py3-none-any.whl (62 kB)\n",
      "     ---------------------------------------- 62.8/62.8 kB 3.3 MB/s eta 0:00:00\n",
      "Collecting w3lib\n",
      "  Downloading w3lib-2.1.1-py3-none-any.whl (21 kB)\n",
      "Collecting pyquery\n",
      "  Using cached pyquery-2.0.0-py3-none-any.whl (22 kB)\n",
      "Collecting fake-useragent\n",
      "  Using cached fake_useragent-1.1.1-py3-none-any.whl (50 kB)\n",
      "Collecting websockets<11.0,>=10.0\n",
      "  Using cached websockets-10.4-cp39-cp39-win_amd64.whl (101 kB)\n",
      "Requirement already satisfied: certifi>=2021 in c:\\users\\pooji\\anaconda3\\envs\\r\\lib\\site-packages (from pyppeteer>=0.0.14->requests_html) (2022.12.7)\n",
      "Collecting urllib3<2.0.0,>=1.25.8\n",
      "  Downloading urllib3-1.26.14-py2.py3-none-any.whl (140 kB)\n",
      "     -------------------------------------- 140.6/140.6 kB 4.2 MB/s eta 0:00:00\n",
      "Collecting pyee<9.0.0,>=8.1.0\n",
      "  Using cached pyee-8.2.2-py2.py3-none-any.whl (12 kB)\n",
      "Collecting tqdm<5.0.0,>=4.42.1\n",
      "  Downloading tqdm-4.64.1-py2.py3-none-any.whl (78 kB)\n",
      "     ---------------------------------------- 78.5/78.5 kB 4.3 MB/s eta 0:00:00\n",
      "Collecting appdirs<2.0.0,>=1.4.3\n",
      "  Downloading appdirs-1.4.4-py2.py3-none-any.whl (9.6 kB)\n",
      "Collecting importlib-metadata>=1.4\n",
      "  Downloading importlib_metadata-6.0.0-py3-none-any.whl (21 kB)\n",
      "Requirement already satisfied: beautifulsoup4 in c:\\users\\pooji\\anaconda3\\envs\\r\\lib\\site-packages (from bs4->requests_html) (4.11.1)\n",
      "Collecting importlib-resources>=5.0\n",
      "  Using cached importlib_resources-5.10.2-py3-none-any.whl (34 kB)\n",
      "Requirement already satisfied: lxml>=2.1 in c:\\users\\pooji\\anaconda3\\envs\\r\\lib\\site-packages (from pyquery->requests_html) (4.9.1)\n",
      "Collecting cssselect>=1.2.0\n",
      "  Using cached cssselect-1.2.0-py2.py3-none-any.whl (18 kB)\n",
      "Collecting charset-normalizer<4,>=2\n",
      "  Downloading charset_normalizer-3.0.1-cp39-cp39-win_amd64.whl (96 kB)\n",
      "     ---------------------------------------- 96.5/96.5 kB 1.4 MB/s eta 0:00:00\n",
      "Requirement already satisfied: idna<4,>=2.5 in c:\\users\\pooji\\anaconda3\\envs\\r\\lib\\site-packages (from requests->requests_html) (3.4)\n",
      "Collecting zipp>=0.5\n",
      "  Downloading zipp-3.11.0-py3-none-any.whl (6.6 kB)\n",
      "Requirement already satisfied: colorama in c:\\users\\pooji\\anaconda3\\envs\\r\\lib\\site-packages (from tqdm<5.0.0,>=4.42.1->pyppeteer>=0.0.14->requests_html) (0.4.6)\n",
      "Requirement already satisfied: soupsieve>1.2 in c:\\users\\pooji\\anaconda3\\envs\\r\\lib\\site-packages (from beautifulsoup4->bs4->requests_html) (2.3.2.post1)\n",
      "Building wheels for collected packages: bs4, parse\n",
      "  Building wheel for bs4 (setup.py): started\n",
      "  Building wheel for bs4 (setup.py): finished with status 'done'\n",
      "  Created wheel for bs4: filename=bs4-0.0.1-py3-none-any.whl size=1257 sha256=ba1cec20b8d36bd4a875e594ae405b94a61c3f7d86d97d7cf6fbdb72a21fa337\n",
      "  Stored in directory: c:\\users\\pooji\\appdata\\local\\pip\\cache\\wheels\\8b\\ac\\c5\\cb646ab01df6f353a9994b1c97dffb94f9b12013d64c162c58\n",
      "  Building wheel for parse (setup.py): started\n",
      "  Building wheel for parse (setup.py): finished with status 'done'\n",
      "  Created wheel for parse: filename=parse-1.19.0-py3-none-any.whl size=24571 sha256=236026d7ad7cbe61dfbbf0ef197870b2117d5d739e4c68801fbc40ef0b9295a8\n",
      "  Stored in directory: c:\\users\\pooji\\appdata\\local\\pip\\cache\\wheels\\13\\37\\a2\\e4bbb20a9e1bcb7643e432f71f513ea1fc1fb7f8a1cc718a2f\n",
      "Successfully built bs4 parse\n",
      "Installing collected packages: pyee, parse, charset-normalizer, appdirs, zipp, websockets, w3lib, urllib3, tqdm, cssselect, requests, pyquery, importlib-resources, importlib-metadata, bs4, pyppeteer, fake-useragent, requests_html\n",
      "Successfully installed appdirs-1.4.4 bs4-0.0.1 charset-normalizer-3.0.1 cssselect-1.2.0 fake-useragent-1.1.1 importlib-metadata-6.0.0 importlib-resources-5.10.2 parse-1.19.0 pyee-8.2.2 pyppeteer-1.0.2 pyquery-2.0.0 requests-2.28.2 requests_html-0.10.0 tqdm-4.64.1 urllib3-1.26.14 w3lib-2.1.1 websockets-10.4 zipp-3.11.0\n",
      "Note: you may need to restart the kernel to use updated packages.\n"
     ]
    }
   ],
   "source": [
    "pip install requests_html"
   ]
  },
  {
   "cell_type": "code",
   "execution_count": 2,
   "id": "1a88a72d",
   "metadata": {},
   "outputs": [
    {
     "name": "stdout",
     "output_type": "stream",
     "text": [
      "Collecting contractions\n",
      "  Using cached contractions-0.1.73-py2.py3-none-any.whl (8.7 kB)\n",
      "Collecting textsearch>=0.0.21\n",
      "  Using cached textsearch-0.0.24-py2.py3-none-any.whl (7.6 kB)\n",
      "Collecting pyahocorasick\n",
      "  Downloading pyahocorasick-2.0.0-cp39-cp39-win_amd64.whl (39 kB)\n",
      "Collecting anyascii\n",
      "  Using cached anyascii-0.3.1-py3-none-any.whl (287 kB)\n",
      "Installing collected packages: pyahocorasick, anyascii, textsearch, contractions\n",
      "Successfully installed anyascii-0.3.1 contractions-0.1.73 pyahocorasick-2.0.0 textsearch-0.0.24\n",
      "Note: you may need to restart the kernel to use updated packages.\n"
     ]
    }
   ],
   "source": [
    "pip install contractions"
   ]
  },
  {
   "cell_type": "code",
   "execution_count": 4,
   "id": "109c55de",
   "metadata": {},
   "outputs": [
    {
     "name": "stdout",
     "output_type": "stream",
     "text": [
      "Collecting nltk\n",
      "  Downloading nltk-3.8.1-py3-none-any.whl (1.5 MB)\n",
      "     ---------------------------------------- 1.5/1.5 MB 2.0 MB/s eta 0:00:00\n",
      "Collecting click\n",
      "  Downloading click-8.1.3-py3-none-any.whl (96 kB)\n",
      "     ---------------------------------------- 96.6/96.6 kB ? eta 0:00:00\n",
      "Collecting regex>=2021.8.3\n",
      "  Downloading regex-2022.10.31-cp39-cp39-win_amd64.whl (267 kB)\n",
      "     -------------------------------------- 267.8/267.8 kB 3.3 MB/s eta 0:00:00\n",
      "Collecting joblib\n",
      "  Downloading joblib-1.2.0-py3-none-any.whl (297 kB)\n",
      "     -------------------------------------- 298.0/298.0 kB 2.0 MB/s eta 0:00:00\n",
      "Requirement already satisfied: tqdm in c:\\users\\pooji\\anaconda3\\envs\\r\\lib\\site-packages (from nltk) (4.64.1)\n",
      "Requirement already satisfied: colorama in c:\\users\\pooji\\anaconda3\\envs\\r\\lib\\site-packages (from click->nltk) (0.4.6)\n",
      "Installing collected packages: regex, joblib, click, nltk\n",
      "Successfully installed click-8.1.3 joblib-1.2.0 nltk-3.8.1 regex-2022.10.31\n",
      "Note: you may need to restart the kernel to use updated packages.\n"
     ]
    }
   ],
   "source": [
    "pip install nltk"
   ]
  },
  {
   "cell_type": "code",
   "execution_count": 6,
   "id": "3b91542a",
   "metadata": {},
   "outputs": [
    {
     "name": "stdout",
     "output_type": "stream",
     "text": [
      "Collecting mlxtend\n",
      "  Using cached mlxtend-0.21.0-py2.py3-none-any.whl (1.3 MB)\n",
      "Collecting matplotlib>=3.0.0\n",
      "  Downloading matplotlib-3.6.3-cp39-cp39-win_amd64.whl (7.2 MB)\n",
      "     ---------------------------------------- 7.2/7.2 MB 1.1 MB/s eta 0:00:00\n",
      "Requirement already satisfied: setuptools in c:\\users\\pooji\\anaconda3\\envs\\r\\lib\\site-packages (from mlxtend) (65.6.3)\n",
      "Requirement already satisfied: numpy>=1.16.2 in c:\\users\\pooji\\anaconda3\\envs\\r\\lib\\site-packages (from mlxtend) (1.24.1)\n",
      "Collecting scipy>=1.2.1\n",
      "  Downloading scipy-1.10.0-cp39-cp39-win_amd64.whl (42.5 MB)\n",
      "     ---------------------------------------- 42.5/42.5 MB 1.6 MB/s eta 0:00:00\n",
      "Requirement already satisfied: pandas>=0.24.2 in c:\\users\\pooji\\anaconda3\\envs\\r\\lib\\site-packages (from mlxtend) (1.5.2)\n",
      "Collecting scikit-learn>=1.0.2\n",
      "  Downloading scikit_learn-1.2.0-cp39-cp39-win_amd64.whl (8.3 MB)\n",
      "     ---------------------------------------- 8.3/8.3 MB 1.3 MB/s eta 0:00:00\n",
      "Requirement already satisfied: joblib>=0.13.2 in c:\\users\\pooji\\anaconda3\\envs\\r\\lib\\site-packages (from mlxtend) (1.2.0)\n",
      "Collecting contourpy>=1.0.1\n",
      "  Downloading contourpy-1.0.7-cp39-cp39-win_amd64.whl (160 kB)\n",
      "     -------------------------------------- 160.2/160.2 kB 1.4 MB/s eta 0:00:00\n",
      "Collecting fonttools>=4.22.0\n",
      "  Downloading fonttools-4.38.0-py3-none-any.whl (965 kB)\n",
      "     -------------------------------------- 965.4/965.4 kB 1.1 MB/s eta 0:00:00\n",
      "Collecting pillow>=6.2.0\n",
      "  Downloading Pillow-9.4.0-cp39-cp39-win_amd64.whl (2.5 MB)\n",
      "     ---------------------------------------- 2.5/2.5 MB 751.9 kB/s eta 0:00:00\n",
      "Requirement already satisfied: python-dateutil>=2.7 in c:\\users\\pooji\\anaconda3\\envs\\r\\lib\\site-packages (from matplotlib>=3.0.0->mlxtend) (2.8.2)\n",
      "Collecting kiwisolver>=1.0.1\n",
      "  Downloading kiwisolver-1.4.4-cp39-cp39-win_amd64.whl (55 kB)\n",
      "     -------------------------------------- 55.4/55.4 kB 289.6 kB/s eta 0:00:00\n",
      "Collecting cycler>=0.10\n",
      "  Downloading cycler-0.11.0-py3-none-any.whl (6.4 kB)\n",
      "Requirement already satisfied: packaging>=20.0 in c:\\users\\pooji\\anaconda3\\envs\\r\\lib\\site-packages (from matplotlib>=3.0.0->mlxtend) (22.0)\n",
      "Collecting pyparsing>=2.2.1\n",
      "  Downloading pyparsing-3.0.9-py3-none-any.whl (98 kB)\n",
      "     -------------------------------------- 98.3/98.3 kB 297.6 kB/s eta 0:00:00\n",
      "Requirement already satisfied: pytz>=2020.1 in c:\\users\\pooji\\anaconda3\\envs\\r\\lib\\site-packages (from pandas>=0.24.2->mlxtend) (2022.7)\n",
      "Collecting threadpoolctl>=2.0.0\n",
      "  Downloading threadpoolctl-3.1.0-py3-none-any.whl (14 kB)\n",
      "Requirement already satisfied: six>=1.5 in c:\\users\\pooji\\anaconda3\\envs\\r\\lib\\site-packages (from python-dateutil>=2.7->matplotlib>=3.0.0->mlxtend) (1.16.0)\n",
      "Installing collected packages: threadpoolctl, scipy, pyparsing, pillow, kiwisolver, fonttools, cycler, contourpy, scikit-learn, matplotlib, mlxtend\n",
      "Successfully installed contourpy-1.0.7 cycler-0.11.0 fonttools-4.38.0 kiwisolver-1.4.4 matplotlib-3.6.3 mlxtend-0.21.0 pillow-9.4.0 pyparsing-3.0.9 scikit-learn-1.2.0 scipy-1.10.0 threadpoolctl-3.1.0\n",
      "Note: you may need to restart the kernel to use updated packages.\n"
     ]
    }
   ],
   "source": [
    "pip install mlxtend"
   ]
  },
  {
   "cell_type": "code",
   "execution_count": 7,
   "id": "d01d712e",
   "metadata": {},
   "outputs": [],
   "source": [
    "import numpy as np\n",
    "import pandas as pd\n",
    "# maintianing the Session to scrape the reviews\n",
    "from requests_html import HTMLSession\n",
    "\n",
    "# For preprocessing the scrape reviews\n",
    "import re\n",
    "import contractions\n",
    "from nltk.stem import WordNetLemmatizer\n",
    "import nltk\n",
    "from nltk import word_tokenize\n",
    "\n",
    "\n",
    "# For finding the frequent patterns in the reviews\n",
    "from mlxtend.frequent_patterns import apriori, association_rules\n",
    "\n",
    "# Used for Progress Bar\n",
    "from time import sleep\n",
    "from tqdm import tqdm\n",
    "\n",
    "import warnings\n",
    "warnings.filterwarnings(\"ignore\")"
   ]
  },
  {
   "cell_type": "code",
   "execution_count": 8,
   "id": "03764050",
   "metadata": {},
   "outputs": [],
   "source": [
    "# Helper Methods\n",
    "def getting_review_div(url, session, header, cookies):\n",
    "    temp = session.get(url, headers = header, cookies = cookies)\n",
    "    if not temp.html.find('div[data-hook=review]'):\n",
    "        return False\n",
    "    else:\n",
    "        return temp.html.find('div[data-hook=review]')\n",
    "    \n",
    "def getting_reviews(asin, page_no):\n",
    "    session = HTMLSession()\n",
    "    url = f\"https://www.amazon.in/product-reviews/{asin}/ref=cm_cr_arp_d_viewopt_srt?ie=UTF8&reviewerType=all_reviews&sortBy=recent&pageNumber={page_no}\"\n",
    "    header = {'User-Agent': 'Mozilla/5.0 (Macintosh; Intel Mac OS X 10_15_7) AppleWebKit/537.36 (KHTML, like Gecko) Chrome/108.0.0.0 Safari/537.36'}\n",
    "    cookies = {'session-id':'130-2350219-8238762'}\n",
    "    reviews = getting_review_div(url, session, header, cookies)\n",
    "    total = []\n",
    "\n",
    "    for review in reviews:\n",
    "        title = review.find('a[data-hook=review-title]', first = True).text\n",
    "        body = review.find('span[data-hook=review-body]', first = True).text\n",
    "        rating = review.find('i[data-hook=review-star-rating]', first = True).text\n",
    "        data = {'Title':title, 'Reviews':body, 'Rating':rating}\n",
    "        total.append(data)\n",
    "    return total\n",
    "\n",
    "def preprocessing(df):\n",
    "    \n",
    "    for i in range(len(df.Reviews)):\n",
    "        stripped_text = contractions.fix(df.Reviews[i])\n",
    "        df.Reviews[i] = stripped_text\n",
    "    \n",
    "        # Converting Reviews to Lower Case\n",
    "        df.Reviews[i] = df.Reviews[i].lower()\n",
    "    \n",
    "        # Removing Punctuations\n",
    "        df.Reviews[i] = re.sub(\"[^A-Za-z0-9]+\", \" \", df.Reviews[i])\n",
    "    \n",
    "        # Removing extra white spaces\n",
    "        df.Reviews[i] = df.Reviews[i].replace(\"  \", \" \").strip()\n",
    "    \n",
    "        # Lemmatizing \n",
    "        lem = WordNetLemmatizer()\n",
    "        df.Reviews[i] = \" \".join([lem.lemmatize(w) for w in df.Reviews[i].split()])\n",
    "        \n",
    "    return df"
   ]
  },
  {
   "cell_type": "code",
   "execution_count": 9,
   "id": "1ad3cc32",
   "metadata": {},
   "outputs": [
    {
     "name": "stderr",
     "output_type": "stream",
     "text": [
      "100%|██████████| 199/199 [04:29<00:00,  1.35s/it]\n"
     ]
    }
   ],
   "source": [
    "df = pd.DataFrame(columns = ['Title', 'Reviews', 'Rating'])\n",
    "asin = \"B08L5TNJHG\"\n",
    "\n",
    "for page in tqdm(range(1, 200)):\n",
    "    temp = getting_reviews(asin = asin, page_no = str(page))\n",
    "    df = df.append(temp, ignore_index=True)\n",
    "    sleep(0.5)"
   ]
  },
  {
   "cell_type": "code",
   "execution_count": 10,
   "id": "66d1fcfe",
   "metadata": {},
   "outputs": [
    {
     "data": {
      "text/html": [
       "<div>\n",
       "<style scoped>\n",
       "    .dataframe tbody tr th:only-of-type {\n",
       "        vertical-align: middle;\n",
       "    }\n",
       "\n",
       "    .dataframe tbody tr th {\n",
       "        vertical-align: top;\n",
       "    }\n",
       "\n",
       "    .dataframe thead th {\n",
       "        text-align: right;\n",
       "    }\n",
       "</style>\n",
       "<table border=\"1\" class=\"dataframe\">\n",
       "  <thead>\n",
       "    <tr style=\"text-align: right;\">\n",
       "      <th></th>\n",
       "      <th>Title</th>\n",
       "      <th>Reviews</th>\n",
       "      <th>Rating</th>\n",
       "    </tr>\n",
       "  </thead>\n",
       "  <tbody>\n",
       "    <tr>\n",
       "      <th>0</th>\n",
       "      <td>Nice iPhone</td>\n",
       "      <td>Received parcel in good condition. Happy using it</td>\n",
       "      <td>4.0 out of 5 stars</td>\n",
       "    </tr>\n",
       "    <tr>\n",
       "      <th>1</th>\n",
       "      <td>Very bad product</td>\n",
       "      <td>Bad products</td>\n",
       "      <td>1.0 out of 5 stars</td>\n",
       "    </tr>\n",
       "    <tr>\n",
       "      <th>2</th>\n",
       "      <td>Badiya he phone</td>\n",
       "      <td></td>\n",
       "      <td>5.0 out of 5 stars</td>\n",
       "    </tr>\n",
       "    <tr>\n",
       "      <th>3</th>\n",
       "      <td>Slow in charging fast battery drawing</td>\n",
       "      <td>Not happy with battery life and want to exchange</td>\n",
       "      <td>2.0 out of 5 stars</td>\n",
       "    </tr>\n",
       "    <tr>\n",
       "      <th>4</th>\n",
       "      <td>tagada selfie maarta Hai Shukla ji</td>\n",
       "      <td>I like the camera quality 👌\\nAnd good Battery ...</td>\n",
       "      <td>4.0 out of 5 stars</td>\n",
       "    </tr>\n",
       "    <tr>\n",
       "      <th>...</th>\n",
       "      <td>...</td>\n",
       "      <td>...</td>\n",
       "      <td>...</td>\n",
       "    </tr>\n",
       "    <tr>\n",
       "      <th>1985</th>\n",
       "      <td>Best camera, Best &amp; fast iOS system, Simple op...</td>\n",
       "      <td>The A14-Bionic chip makes it fast operating de...</td>\n",
       "      <td>5.0 out of 5 stars</td>\n",
       "    </tr>\n",
       "    <tr>\n",
       "      <th>1986</th>\n",
       "      <td>Heating while charging</td>\n",
       "      <td>Other than that everything is 👍.</td>\n",
       "      <td>4.0 out of 5 stars</td>\n",
       "    </tr>\n",
       "    <tr>\n",
       "      <th>1987</th>\n",
       "      <td>Very nice and cool colour of this phone and de...</td>\n",
       "      <td>It works good and u can for it. This iPhone ha...</td>\n",
       "      <td>5.0 out of 5 stars</td>\n",
       "    </tr>\n",
       "    <tr>\n",
       "      <th>1988</th>\n",
       "      <td>That it is original product</td>\n",
       "      <td>Good products</td>\n",
       "      <td>5.0 out of 5 stars</td>\n",
       "    </tr>\n",
       "    <tr>\n",
       "      <th>1989</th>\n",
       "      <td>Worth investment in Iphone 12</td>\n",
       "      <td>Very good phone. excellent photo quality and s...</td>\n",
       "      <td>5.0 out of 5 stars</td>\n",
       "    </tr>\n",
       "  </tbody>\n",
       "</table>\n",
       "<p>1990 rows × 3 columns</p>\n",
       "</div>"
      ],
      "text/plain": [
       "                                                  Title  \\\n",
       "0                                           Nice iPhone   \n",
       "1                                      Very bad product   \n",
       "2                                       Badiya he phone   \n",
       "3                 Slow in charging fast battery drawing   \n",
       "4                    tagada selfie maarta Hai Shukla ji   \n",
       "...                                                 ...   \n",
       "1985  Best camera, Best & fast iOS system, Simple op...   \n",
       "1986                             Heating while charging   \n",
       "1987  Very nice and cool colour of this phone and de...   \n",
       "1988                        That it is original product   \n",
       "1989                      Worth investment in Iphone 12   \n",
       "\n",
       "                                                Reviews              Rating  \n",
       "0     Received parcel in good condition. Happy using it  4.0 out of 5 stars  \n",
       "1                                          Bad products  1.0 out of 5 stars  \n",
       "2                                                        5.0 out of 5 stars  \n",
       "3      Not happy with battery life and want to exchange  2.0 out of 5 stars  \n",
       "4     I like the camera quality 👌\\nAnd good Battery ...  4.0 out of 5 stars  \n",
       "...                                                 ...                 ...  \n",
       "1985  The A14-Bionic chip makes it fast operating de...  5.0 out of 5 stars  \n",
       "1986                   Other than that everything is 👍.  4.0 out of 5 stars  \n",
       "1987  It works good and u can for it. This iPhone ha...  5.0 out of 5 stars  \n",
       "1988                                      Good products  5.0 out of 5 stars  \n",
       "1989  Very good phone. excellent photo quality and s...  5.0 out of 5 stars  \n",
       "\n",
       "[1990 rows x 3 columns]"
      ]
     },
     "execution_count": 10,
     "metadata": {},
     "output_type": "execute_result"
    }
   ],
   "source": [
    "df"
   ]
  },
  {
   "cell_type": "code",
   "execution_count": 6,
   "id": "b5a11cf3",
   "metadata": {},
   "outputs": [
    {
     "name": "stdout",
     "output_type": "stream",
     "text": [
      "Requirement already satisfied: wordnet in c:\\users\\pooji\\anaconda3\\lib\\site-packages (0.0.1b2)\n",
      "Requirement already satisfied: colorama==0.3.9 in c:\\users\\pooji\\anaconda3\\lib\\site-packages (from wordnet) (0.3.9)\n",
      "Note: you may need to restart the kernel to use updated packages.\n"
     ]
    }
   ],
   "source": [
    "pip install wordnet"
   ]
  },
  {
   "cell_type": "code",
   "execution_count": 8,
   "id": "ac4f549b",
   "metadata": {},
   "outputs": [
    {
     "name": "stderr",
     "output_type": "stream",
     "text": [
      "[nltk_data] Downloading package wordnet to\n",
      "[nltk_data]     C:\\Users\\pooji\\AppData\\Roaming\\nltk_data...\n"
     ]
    },
    {
     "data": {
      "text/plain": [
       "True"
      ]
     },
     "execution_count": 8,
     "metadata": {},
     "output_type": "execute_result"
    }
   ],
   "source": [
    "import nltk\n",
    "nltk.download('wordnet')"
   ]
  },
  {
   "cell_type": "code",
   "execution_count": 10,
   "id": "f4e4fa29",
   "metadata": {},
   "outputs": [
    {
     "name": "stderr",
     "output_type": "stream",
     "text": [
      "[nltk_data] Downloading package omw-1.4 to\n",
      "[nltk_data]     C:\\Users\\pooji\\AppData\\Roaming\\nltk_data...\n"
     ]
    },
    {
     "data": {
      "text/plain": [
       "True"
      ]
     },
     "execution_count": 10,
     "metadata": {},
     "output_type": "execute_result"
    }
   ],
   "source": [
    "import nltk\n",
    "nltk.download('omw-1.4')"
   ]
  },
  {
   "cell_type": "code",
   "execution_count": 11,
   "id": "500c491d",
   "metadata": {},
   "outputs": [
    {
     "data": {
      "text/html": [
       "<div>\n",
       "<style scoped>\n",
       "    .dataframe tbody tr th:only-of-type {\n",
       "        vertical-align: middle;\n",
       "    }\n",
       "\n",
       "    .dataframe tbody tr th {\n",
       "        vertical-align: top;\n",
       "    }\n",
       "\n",
       "    .dataframe thead th {\n",
       "        text-align: right;\n",
       "    }\n",
       "</style>\n",
       "<table border=\"1\" class=\"dataframe\">\n",
       "  <thead>\n",
       "    <tr style=\"text-align: right;\">\n",
       "      <th></th>\n",
       "      <th>Title</th>\n",
       "      <th>Reviews</th>\n",
       "      <th>Rating</th>\n",
       "    </tr>\n",
       "  </thead>\n",
       "  <tbody>\n",
       "    <tr>\n",
       "      <th>0</th>\n",
       "      <td>Nice iPhone</td>\n",
       "      <td>received parcel in good condition happy using it</td>\n",
       "      <td>4.0 out of 5 stars</td>\n",
       "    </tr>\n",
       "    <tr>\n",
       "      <th>1</th>\n",
       "      <td>Very bad product</td>\n",
       "      <td>bad product</td>\n",
       "      <td>1.0 out of 5 stars</td>\n",
       "    </tr>\n",
       "    <tr>\n",
       "      <th>2</th>\n",
       "      <td>Badiya he phone</td>\n",
       "      <td></td>\n",
       "      <td>5.0 out of 5 stars</td>\n",
       "    </tr>\n",
       "    <tr>\n",
       "      <th>3</th>\n",
       "      <td>Slow in charging fast battery drawing</td>\n",
       "      <td>not happy with battery life and want to exchange</td>\n",
       "      <td>2.0 out of 5 stars</td>\n",
       "    </tr>\n",
       "    <tr>\n",
       "      <th>4</th>\n",
       "      <td>tagada selfie maarta Hai Shukla ji</td>\n",
       "      <td>i like the camera quality and good battery bac...</td>\n",
       "      <td>4.0 out of 5 stars</td>\n",
       "    </tr>\n",
       "    <tr>\n",
       "      <th>...</th>\n",
       "      <td>...</td>\n",
       "      <td>...</td>\n",
       "      <td>...</td>\n",
       "    </tr>\n",
       "    <tr>\n",
       "      <th>1985</th>\n",
       "      <td>Best camera, Best &amp; fast iOS system, Simple op...</td>\n",
       "      <td>the a14 bionic chip make it fast operating dev...</td>\n",
       "      <td>5.0 out of 5 stars</td>\n",
       "    </tr>\n",
       "    <tr>\n",
       "      <th>1986</th>\n",
       "      <td>Heating while charging</td>\n",
       "      <td>other than that everything is</td>\n",
       "      <td>4.0 out of 5 stars</td>\n",
       "    </tr>\n",
       "    <tr>\n",
       "      <th>1987</th>\n",
       "      <td>Very nice and cool colour of this phone and de...</td>\n",
       "      <td>it work good and you can for it this iphone ha...</td>\n",
       "      <td>5.0 out of 5 stars</td>\n",
       "    </tr>\n",
       "    <tr>\n",
       "      <th>1988</th>\n",
       "      <td>That it is original product</td>\n",
       "      <td>good product</td>\n",
       "      <td>5.0 out of 5 stars</td>\n",
       "    </tr>\n",
       "    <tr>\n",
       "      <th>1989</th>\n",
       "      <td>Worth investment in Iphone 12</td>\n",
       "      <td>very good phone excellent photo quality and st...</td>\n",
       "      <td>5.0 out of 5 stars</td>\n",
       "    </tr>\n",
       "  </tbody>\n",
       "</table>\n",
       "<p>1990 rows × 3 columns</p>\n",
       "</div>"
      ],
      "text/plain": [
       "                                                  Title  \\\n",
       "0                                           Nice iPhone   \n",
       "1                                      Very bad product   \n",
       "2                                       Badiya he phone   \n",
       "3                 Slow in charging fast battery drawing   \n",
       "4                    tagada selfie maarta Hai Shukla ji   \n",
       "...                                                 ...   \n",
       "1985  Best camera, Best & fast iOS system, Simple op...   \n",
       "1986                             Heating while charging   \n",
       "1987  Very nice and cool colour of this phone and de...   \n",
       "1988                        That it is original product   \n",
       "1989                      Worth investment in Iphone 12   \n",
       "\n",
       "                                                Reviews              Rating  \n",
       "0      received parcel in good condition happy using it  4.0 out of 5 stars  \n",
       "1                                           bad product  1.0 out of 5 stars  \n",
       "2                                                        5.0 out of 5 stars  \n",
       "3      not happy with battery life and want to exchange  2.0 out of 5 stars  \n",
       "4     i like the camera quality and good battery bac...  4.0 out of 5 stars  \n",
       "...                                                 ...                 ...  \n",
       "1985  the a14 bionic chip make it fast operating dev...  5.0 out of 5 stars  \n",
       "1986                      other than that everything is  4.0 out of 5 stars  \n",
       "1987  it work good and you can for it this iphone ha...  5.0 out of 5 stars  \n",
       "1988                                       good product  5.0 out of 5 stars  \n",
       "1989  very good phone excellent photo quality and st...  5.0 out of 5 stars  \n",
       "\n",
       "[1990 rows x 3 columns]"
      ]
     },
     "execution_count": 11,
     "metadata": {},
     "output_type": "execute_result"
    }
   ],
   "source": [
    "df = preprocessing(df)\n",
    "df"
   ]
  },
  {
   "cell_type": "markdown",
   "id": "6d78d76c",
   "metadata": {},
   "source": [
    "    Now, we are ready with the data frame which contain the reviews, rating and title."
   ]
  },
  {
   "cell_type": "markdown",
   "id": "640a01f0",
   "metadata": {},
   "source": [
    "### POS Tagging"
   ]
  },
  {
   "cell_type": "code",
   "execution_count": 12,
   "id": "bba4d778",
   "metadata": {},
   "outputs": [],
   "source": [
    "#Save the NOUNS only\n",
    "nouns = []\n",
    "for i in range(len(df.Reviews)):\n",
    "    pair = nltk.pos_tag(word_tokenize(df.Reviews[i]))\n",
    "    for j in pair:\n",
    "        if ('NN') in j[1] and len(j[0]) >3:\n",
    "            nouns.append(j[0])\n",
    "            \n",
    "nouns = [*set(nouns)]"
   ]
  },
  {
   "cell_type": "code",
   "execution_count": 13,
   "id": "475cccf5",
   "metadata": {},
   "outputs": [
    {
     "name": "stderr",
     "output_type": "stream",
     "text": [
      "100%|██████████| 1416/1416 [05:14<00:00,  4.50it/s]\n"
     ]
    }
   ],
   "source": [
    "dic = {}\n",
    "for i in tqdm(range(len(nouns))):\n",
    "    temp = []\n",
    "    for j in range(len(df.Reviews)):\n",
    "        if nouns[i] in df.Reviews[j]:\n",
    "            temp.append(1)\n",
    "        else:\n",
    "            temp.append(0)\n",
    "        dic[nouns[i]] = temp\n",
    "    sleep(0.2)"
   ]
  },
  {
   "cell_type": "code",
   "execution_count": 14,
   "id": "483c11a2",
   "metadata": {},
   "outputs": [],
   "source": [
    "data = pd.DataFrame(dic)"
   ]
  },
  {
   "cell_type": "code",
   "execution_count": 15,
   "id": "05d47056",
   "metadata": {},
   "outputs": [],
   "source": [
    "apr_df = apriori(data, min_support = 0.03, use_colnames = True, max_len=2, verbose = 0)"
   ]
  },
  {
   "cell_type": "markdown",
   "id": "b5dfd4e6",
   "metadata": {},
   "source": [
    "### Compactness Pruning"
   ]
  },
  {
   "cell_type": "code",
   "execution_count": 16,
   "id": "fb2a7da9",
   "metadata": {},
   "outputs": [
    {
     "data": {
      "text/plain": [
       "[(('back', 'phone'), 3),\n",
       " (('battery', 'back'), 3),\n",
       " (('issue', 'phone'), 6),\n",
       " (('work', 'phone'), 3),\n",
       " (('amazon', 'iphone'), 6),\n",
       " (('amazon', 'phone'), 14),\n",
       " (('amazon', 'product'), 18),\n",
       " (('iphone', 'apple'), 9),\n",
       " (('apple', 'phone'), 11),\n",
       " (('product', 'apple'), 24),\n",
       " (('awesome', 'phone'), 14),\n",
       " (('experience', 'phone'), 6),\n",
       " (('iphone', 'quality'), 12),\n",
       " (('camera', 'iphone'), 11),\n",
       " (('good', 'iphone'), 15),\n",
       " (('iphone', 'phone'), 10),\n",
       " (('iphone', 'product'), 7),\n",
       " (('iphone', 'battery'), 3),\n",
       " (('camera', 'quality'), 87),\n",
       " (('good', 'quality'), 33),\n",
       " (('quality', 'phone'), 10),\n",
       " (('battery', 'quality'), 17),\n",
       " (('camera', 'life'), 12),\n",
       " (('life', 'good'), 25),\n",
       " (('life', 'phone'), 11),\n",
       " (('life', 'battery'), 125),\n",
       " (('android', 'phone'), 13),\n",
       " (('camera', 'good'), 43),\n",
       " (('camera', 'phone'), 18),\n",
       " (('camera', 'battery'), 46),\n",
       " (('backup', 'battery'), 55),\n",
       " (('time', 'phone'), 3),\n",
       " (('good', 'phone'), 66),\n",
       " (('good', 'product'), 48),\n",
       " (('good', 'battery'), 54),\n",
       " (('product', 'phone'), 3),\n",
       " (('battery', 'phone'), 24)]"
      ]
     },
     "execution_count": 16,
     "metadata": {},
     "output_type": "execute_result"
    }
   ],
   "source": [
    "dic = {}\n",
    "len_list = [tuple(i) for i in apr_df.itemsets if len(i)>=2]\n",
    "for feature in len_list:\n",
    "    temp = 0\n",
    "    for rev in df.Reviews:\n",
    "        rev = list(rev.split())\n",
    "        if feature[0] in rev and feature[1] in rev:\n",
    "            i1 = rev.index(feature[0])\n",
    "            i2 = rev.index(feature[1])\n",
    "            if abs(i1-i2)<=3:\n",
    "                temp = temp + 1\n",
    "                dic[feature] = temp\n",
    "                \n",
    "compact_features = []\n",
    "for k,v in dic.items():\n",
    "    if v > 2:\n",
    "        compact_features.append((k,v))\n",
    "compact_features"
   ]
  },
  {
   "cell_type": "markdown",
   "id": "f389a735",
   "metadata": {},
   "source": [
    "    These are the most frequent features found after compactness pruning."
   ]
  },
  {
   "cell_type": "markdown",
   "id": "4066842f",
   "metadata": {},
   "source": [
    "### Redundancy Pruning"
   ]
  },
  {
   "cell_type": "code",
   "execution_count": 17,
   "id": "5631c666",
   "metadata": {},
   "outputs": [],
   "source": [
    "single = [tuple(i) for i in apr_df.itemsets if len(i)==1]"
   ]
  },
  {
   "cell_type": "code",
   "execution_count": 18,
   "id": "592d5bc7",
   "metadata": {},
   "outputs": [],
   "source": [
    "double = [tuple(i) for i in apr_df.itemsets if len(i)==2]"
   ]
  },
  {
   "cell_type": "code",
   "execution_count": 19,
   "id": "00164de2",
   "metadata": {},
   "outputs": [],
   "source": [
    "total_dic_single = {}\n",
    "for item in single:\n",
    "    count = 0\n",
    "    for rev in df.Reviews:\n",
    "        rev = list(rev.split())\n",
    "        if item[0] in rev:\n",
    "            count = count + 1\n",
    "    total_dic_single[item[0]] = count"
   ]
  },
  {
   "cell_type": "code",
   "execution_count": 20,
   "id": "85b5a611",
   "metadata": {},
   "outputs": [],
   "source": [
    "total_dic_double = {}\n",
    "for item in double:\n",
    "    count = 0\n",
    "    for rev in df.Reviews:\n",
    "        rev = list(rev.split())\n",
    "        if item[0] in rev and item[1] in rev:\n",
    "            count = count + 1\n",
    "    total_dic_double[(item[0],item[1])] = count"
   ]
  },
  {
   "cell_type": "code",
   "execution_count": 21,
   "id": "52735267",
   "metadata": {},
   "outputs": [],
   "source": [
    "for item in single:\n",
    "    for rev in df.Reviews:\n",
    "        count = 0\n",
    "        rev = list(rev.split())\n",
    "        for feature in double:\n",
    "            if item[0] in feature and feature[0] in rev and feature[1] in rev:\n",
    "                count += 1\n",
    "                total_dic_single[item[0]] = total_dic_single[item[0]] - count\n",
    "                break"
   ]
  },
  {
   "cell_type": "code",
   "execution_count": 22,
   "id": "16f8f88a",
   "metadata": {},
   "outputs": [
    {
     "data": {
      "text/plain": [
       "{'back': 13,\n",
       " 'working': 69,\n",
       " 'charge': 24,\n",
       " 'love': 56,\n",
       " 'thank': 29,\n",
       " 'amazo': 1,\n",
       " 'play': 6,\n",
       " 'smooth': 56,\n",
       " 'issue': 53,\n",
       " 'form': 2,\n",
       " 'user': 68,\n",
       " 'work': 25,\n",
       " 'fast': 60,\n",
       " 'mobile': 86,\n",
       " 'nice': 131,\n",
       " 'amazon': 29,\n",
       " 'apple': 42,\n",
       " 'worth': 57,\n",
       " 'awesome': 71,\n",
       " 'super': 32,\n",
       " 'experience': 47,\n",
       " 'screen': 63,\n",
       " 'iphone': 75,\n",
       " 'money': 89,\n",
       " 'phon': 0,\n",
       " 'quality': 17,\n",
       " 'life': 1,\n",
       " 'android': 22,\n",
       " 'performance': 95,\n",
       " 'camera': 37,\n",
       " 'price': 85,\n",
       " 'mobil': 1,\n",
       " 'backup': 1,\n",
       " 'cell': 2,\n",
       " 'time': 38,\n",
       " 'overall': 63,\n",
       " 'excellent': 64,\n",
       " 'good': 116,\n",
       " 'heat': 22,\n",
       " 'phone': 127,\n",
       " 'hone': 0,\n",
       " 'issu': 0,\n",
       " 'batter': 0,\n",
       " 'display': 60,\n",
       " 'everything': 81,\n",
       " 'product': 104,\n",
       " 'medium': 136,\n",
       " 'feature': 67,\n",
       " 'purchase': 41,\n",
       " 'feel': 62,\n",
       " 'look': 56,\n",
       " 'thing': 11,\n",
       " 'delivery': 71,\n",
       " 'battery': 36,\n",
       " 'month': 53,\n",
       " 'amazing': 90,\n",
       " 'face': 62}"
      ]
     },
     "execution_count": 22,
     "metadata": {},
     "output_type": "execute_result"
    }
   ],
   "source": [
    "total_dic_single"
   ]
  },
  {
   "cell_type": "markdown",
   "id": "dc918fae",
   "metadata": {},
   "source": [
    "### Level of Automation"
   ]
  },
  {
   "cell_type": "markdown",
   "id": "55c84fd8",
   "metadata": {},
   "source": [
    "    With the help of this framework we can get all the important features from the reviews which are giving some \n",
    "    support towards buying the product.\n",
    "    In this we just have to change the asin of the product which is nothing but the unique identification number \n",
    "    given by amazon for the product."
   ]
  },
  {
   "cell_type": "markdown",
   "id": "302cb4bd",
   "metadata": {},
   "source": [
    "### Advantages"
   ]
  },
  {
   "cell_type": "markdown",
   "id": "fcac1209",
   "metadata": {},
   "source": [
    "    Using this framework we can spead up the process of finding the features based on the opinions of reviewers.\n",
    "    Which in turn will help to give the quick results."
   ]
  },
  {
   "cell_type": "markdown",
   "id": "0dd62f3e",
   "metadata": {},
   "source": [
    "### Disadvantages"
   ]
  },
  {
   "cell_type": "markdown",
   "id": "2d609a29",
   "metadata": {},
   "source": [
    "    This framework is computationally expensive as creating the Binary Matrix from nouns take a lot of time."
   ]
  }
 ],
 "metadata": {
  "kernelspec": {
   "display_name": "Python 3 (ipykernel)",
   "language": "python",
   "name": "python3"
  },
  "language_info": {
   "codemirror_mode": {
    "name": "ipython",
    "version": 3
   },
   "file_extension": ".py",
   "mimetype": "text/x-python",
   "name": "python",
   "nbconvert_exporter": "python",
   "pygments_lexer": "ipython3",
   "version": "3.9.15"
  }
 },
 "nbformat": 4,
 "nbformat_minor": 5
}
